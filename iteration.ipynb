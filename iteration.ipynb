{
 "cells": [
  {
   "cell_type": "code",
   "execution_count": 1,
   "id": "484bbd81-5912-473d-9c22-2b69bdd5f715",
   "metadata": {},
   "outputs": [
    {
     "name": "stdout",
     "output_type": "stream",
     "text": [
      "1\n",
      "2\n",
      "3\n",
      "4\n",
      "5\n"
     ]
    }
   ],
   "source": [
    "a=[1,2,3,4,5] #iterable\n",
    "for i in a:\n",
    "    print(i)\n",
    "    "
   ]
  },
  {
   "cell_type": "code",
   "execution_count": 2,
   "id": "0c1932fd-d5fc-45b1-9ce6-dda998274613",
   "metadata": {},
   "outputs": [
    {
     "name": "stdout",
     "output_type": "stream",
     "text": [
      "1\n",
      "2\n",
      "3\n",
      "4\n",
      "5\n"
     ]
    }
   ],
   "source": [
    "iterator=iter(a)     # creating an iterator\n",
    "print(next(iterator))#iteration\n",
    "print(next(iterator))\n",
    "print(next(iterator))\n",
    "print(next(iterator))\n",
    "print(next(iterator))"
   ]
  },
  {
   "cell_type": "code",
   "execution_count": 8,
   "id": "e7f4eb13-8bfa-4eff-8755-43ba9340c73b",
   "metadata": {},
   "outputs": [
    {
     "name": "stdout",
     "output_type": "stream",
     "text": [
      "1\n",
      "2\n",
      "3\n",
      "4\n",
      "5\n"
     ]
    }
   ],
   "source": [
    "data=[1,2,3,4,5]\n",
    "iterator=iter(data)\n",
    "for item in iterator:\n",
    "    print(item)"
   ]
  },
  {
   "cell_type": "code",
   "execution_count": 29,
   "id": "da98d240-bf29-4b4c-adc0-6b7dd9864381",
   "metadata": {},
   "outputs": [],
   "source": [
    "text=\"hello\"\n",
    "iterator =iter(text)"
   ]
  },
  {
   "cell_type": "code",
   "execution_count": 31,
   "id": "4e277212-1621-470c-b81f-e1ec5f042677",
   "metadata": {},
   "outputs": [
    {
     "name": "stdout",
     "output_type": "stream",
     "text": [
      "h\n",
      "e\n",
      "l\n"
     ]
    }
   ],
   "source": [
    "print(next(iterator))\n",
    "print(next(iterator))\n",
    "print(next(iterator))"
   ]
  },
  {
   "cell_type": "code",
   "execution_count": 46,
   "id": "f391e0f6-a0d2-44b8-a185-11d6c56ad2c7",
   "metadata": {},
   "outputs": [],
   "source": [
    "for word in iterator:\n",
    "    print(word)"
   ]
  },
  {
   "cell_type": "code",
   "execution_count": 54,
   "id": "015ff42d-bbcc-4390-889f-94b001dc7449",
   "metadata": {},
   "outputs": [
    {
     "name": "stdout",
     "output_type": "stream",
     "text": [
      "12\n",
      "13\n",
      "1111111116\n",
      "79\n",
      "96\n"
     ]
    }
   ],
   "source": [
    "tuple=(12,13,1111111116,79,96)\n",
    "iterator=iter(tuple)\n",
    "print(next(iterator))\n",
    "print(next(iterator))\n",
    "print(next(iterator))\n",
    "print(next(iterator))\n",
    "print(next(iterator))"
   ]
  },
  {
   "cell_type": "code",
   "execution_count": null,
   "id": "ae817e90-51f1-4248-bc08-b784e624c478",
   "metadata": {},
   "outputs": [],
   "source": []
  }
 ],
 "metadata": {
  "kernelspec": {
   "display_name": "Python 3 (ipykernel)",
   "language": "python",
   "name": "python3"
  },
  "language_info": {
   "codemirror_mode": {
    "name": "ipython",
    "version": 3
   },
   "file_extension": ".py",
   "mimetype": "text/x-python",
   "name": "python",
   "nbconvert_exporter": "python",
   "pygments_lexer": "ipython3",
   "version": "3.12.7"
  }
 },
 "nbformat": 4,
 "nbformat_minor": 5
}
