{
 "cells": [
  {
   "cell_type": "code",
   "execution_count": 2,
   "id": "4a98ddac-d0de-4d1b-b205-91ad3cefa384",
   "metadata": {},
   "outputs": [
    {
     "name": "stdout",
     "output_type": "stream",
     "text": [
      "Requirement already satisfied: requests in c:\\users\\bhavi\\anaconda3\\lib\\site-packages (2.32.3)\n",
      "Requirement already satisfied: charset-normalizer<4,>=2 in c:\\users\\bhavi\\anaconda3\\lib\\site-packages (from requests) (3.3.2)\n",
      "Requirement already satisfied: idna<4,>=2.5 in c:\\users\\bhavi\\anaconda3\\lib\\site-packages (from requests) (3.7)\n",
      "Requirement already satisfied: urllib3<3,>=1.21.1 in c:\\users\\bhavi\\anaconda3\\lib\\site-packages (from requests) (2.2.3)\n",
      "Requirement already satisfied: certifi>=2017.4.17 in c:\\users\\bhavi\\anaconda3\\lib\\site-packages (from requests) (2024.8.30)\n",
      "Requirement already satisfied: beautifulsoup4 in c:\\users\\bhavi\\anaconda3\\lib\\site-packages (4.12.3)\n",
      "Requirement already satisfied: soupsieve>1.2 in c:\\users\\bhavi\\anaconda3\\lib\\site-packages (from beautifulsoup4) (2.5)\n"
     ]
    }
   ],
   "source": [
    "!pip install requests\n",
    "!pip install beautifulsoup4\n",
    "\n",
    "from bs4 import BeautifulSoup\n",
    "import requests"
   ]
  },
  {
   "cell_type": "code",
   "execution_count": null,
   "id": "d21afe6a-f364-4048-ba92-7448d5773a9c",
   "metadata": {
    "scrolled": true
   },
   "outputs": [],
   "source": []
  },
  {
   "cell_type": "code",
   "execution_count": 3,
   "id": "d7894ef3-38a2-4ce0-8cae-67e53f93e12d",
   "metadata": {},
   "outputs": [
    {
     "ename": "NameError",
     "evalue": "name 'soup' is not defined",
     "output_type": "error",
     "traceback": [
      "\u001b[1;31m---------------------------------------------------------------------------\u001b[0m",
      "\u001b[1;31mNameError\u001b[0m                                 Traceback (most recent call last)",
      "Cell \u001b[1;32mIn[3], line 1\u001b[0m\n\u001b[1;32m----> 1\u001b[0m soup\u001b[38;5;241m.\u001b[39mfind_all(\u001b[38;5;124m'\u001b[39m\u001b[38;5;124mh2\u001b[39m\u001b[38;5;124m'\u001b[39m)[\u001b[38;5;241m2\u001b[39m]\u001b[38;5;241m.\u001b[39mtext\n",
      "\u001b[1;31mNameError\u001b[0m: name 'soup' is not defined"
     ]
    }
   ],
   "source": [
    "soup.find_all('h2')[2].text"
   ]
  },
  {
   "cell_type": "code",
   "execution_count": null,
   "id": "fdebe15b-1cbe-4a70-9536-977e9e105901",
   "metadata": {},
   "outputs": [],
   "source": [
    "i=soup.find_all(\"a\")\n",
    "for link in i:\n",
    "    print(link[\"href\"])\n",
    "\n",
    "url=\"https://www.geeksforgeeks.org/bayes-theorem/\"\n",
    "page=requests.get(url)\n",
    "soup=BeautifulSoup(page.text, \"html.parser\")\n",
    "print(soup)"
   ]
  },
  {
   "cell_type": "code",
   "execution_count": null,
   "id": "3dae0e98-06f1-464a-af11-f54849d67ef1",
   "metadata": {},
   "outputs": [],
   "source": [
    "soup.find_all('h2')"
   ]
  },
  {
   "cell_type": "code",
   "execution_count": null,
   "id": "ab48d539-64a1-4cd5-b387-7f2f580ef1f4",
   "metadata": {},
   "outputs": [],
   "source": [
    "j=soup.find_all(\"a\")\n",
    "for link in j:\n",
    "    print(link[\"href\"])\n",
    "\n"
   ]
  },
  {
   "cell_type": "code",
   "execution_count": 6,
   "id": "a659a0c1-8b73-4c8f-87f5-7deb0b33566a",
   "metadata": {},
   "outputs": [
    {
     "name": "stdout",
     "output_type": "stream",
     "text": [
      "['A Light in the ...', 'Tipping the Velvet', 'Soumission', 'Sharp Objects', 'Sapiens: A Brief History ...', 'The Requiem Red', 'The Dirty Little Secrets ...', 'The Coming Woman: A ...', 'The Boys in the ...', 'The Black Maria']\n"
     ]
    }
   ],
   "source": [
    "import requests\n",
    "from bs4 import BeautifulSoup\n",
    "\n",
    "url = \"http://books.toscrape.com/\"\n",
    "response = requests.get(url)\n",
    "soup = BeautifulSoup(response.content, 'html.parser')\n",
    "\n",
    "book_titles = soup.find_all('h3')\n",
    "\n",
    "titles = []\n",
    "for title in book_titles[:10]:\n",
    "    titles.append(title.text)\n",
    "\n",
    "print(titles)\n",
    "\n"
   ]
  },
  {
   "cell_type": "code",
   "execution_count": 9,
   "id": "d58beac1-b067-4ad6-8d50-25e8031827c1",
   "metadata": {},
   "outputs": [
    {
     "name": "stdout",
     "output_type": "stream",
     "text": [
      "Text: Books to Scrape, Href: index.html\n",
      "Text: Home, Href: index.html\n",
      "Text: Books, Href: catalogue/category/books_1/index.html\n",
      "Text: Travel, Href: catalogue/category/books/travel_2/index.html\n",
      "Text: Mystery, Href: catalogue/category/books/mystery_3/index.html\n",
      "Text: Historical Fiction, Href: catalogue/category/books/historical-fiction_4/index.html\n",
      "Text: Sequential Art, Href: catalogue/category/books/sequential-art_5/index.html\n",
      "Text: Classics, Href: catalogue/category/books/classics_6/index.html\n",
      "Text: Philosophy, Href: catalogue/category/books/philosophy_7/index.html\n",
      "Text: Romance, Href: catalogue/category/books/romance_8/index.html\n",
      "Text: Womens Fiction, Href: catalogue/category/books/womens-fiction_9/index.html\n",
      "Text: Fiction, Href: catalogue/category/books/fiction_10/index.html\n",
      "Text: Childrens, Href: catalogue/category/books/childrens_11/index.html\n",
      "Text: Religion, Href: catalogue/category/books/religion_12/index.html\n",
      "Text: Nonfiction, Href: catalogue/category/books/nonfiction_13/index.html\n",
      "Text: Music, Href: catalogue/category/books/music_14/index.html\n",
      "Text: Default, Href: catalogue/category/books/default_15/index.html\n",
      "Text: Science Fiction, Href: catalogue/category/books/science-fiction_16/index.html\n",
      "Text: Sports and Games, Href: catalogue/category/books/sports-and-games_17/index.html\n",
      "Text: Add a comment, Href: catalogue/category/books/add-a-comment_18/index.html\n",
      "Text: Fantasy, Href: catalogue/category/books/fantasy_19/index.html\n",
      "Text: New Adult, Href: catalogue/category/books/new-adult_20/index.html\n",
      "Text: Young Adult, Href: catalogue/category/books/young-adult_21/index.html\n",
      "Text: Science, Href: catalogue/category/books/science_22/index.html\n",
      "Text: Poetry, Href: catalogue/category/books/poetry_23/index.html\n",
      "Text: Paranormal, Href: catalogue/category/books/paranormal_24/index.html\n",
      "Text: Art, Href: catalogue/category/books/art_25/index.html\n",
      "Text: Psychology, Href: catalogue/category/books/psychology_26/index.html\n",
      "Text: Autobiography, Href: catalogue/category/books/autobiography_27/index.html\n",
      "Text: Parenting, Href: catalogue/category/books/parenting_28/index.html\n",
      "Text: Adult Fiction, Href: catalogue/category/books/adult-fiction_29/index.html\n",
      "Text: Humor, Href: catalogue/category/books/humor_30/index.html\n",
      "Text: Horror, Href: catalogue/category/books/horror_31/index.html\n",
      "Text: History, Href: catalogue/category/books/history_32/index.html\n",
      "Text: Food and Drink, Href: catalogue/category/books/food-and-drink_33/index.html\n",
      "Text: Christian Fiction, Href: catalogue/category/books/christian-fiction_34/index.html\n",
      "Text: Business, Href: catalogue/category/books/business_35/index.html\n",
      "Text: Biography, Href: catalogue/category/books/biography_36/index.html\n",
      "Text: Thriller, Href: catalogue/category/books/thriller_37/index.html\n",
      "Text: Contemporary, Href: catalogue/category/books/contemporary_38/index.html\n",
      "Text: Spirituality, Href: catalogue/category/books/spirituality_39/index.html\n",
      "Text: Academic, Href: catalogue/category/books/academic_40/index.html\n",
      "Text: Self Help, Href: catalogue/category/books/self-help_41/index.html\n",
      "Text: Historical, Href: catalogue/category/books/historical_42/index.html\n",
      "Text: Christian, Href: catalogue/category/books/christian_43/index.html\n",
      "Text: Suspense, Href: catalogue/category/books/suspense_44/index.html\n",
      "Text: Short Stories, Href: catalogue/category/books/short-stories_45/index.html\n",
      "Text: Novels, Href: catalogue/category/books/novels_46/index.html\n",
      "Text: Health, Href: catalogue/category/books/health_47/index.html\n",
      "Text: Politics, Href: catalogue/category/books/politics_48/index.html\n",
      "Text: Cultural, Href: catalogue/category/books/cultural_49/index.html\n",
      "Text: Erotica, Href: catalogue/category/books/erotica_50/index.html\n",
      "Text: Crime, Href: catalogue/category/books/crime_51/index.html\n",
      "Text: , Href: catalogue/a-light-in-the-attic_1000/index.html\n",
      "Text: A Light in the ..., Href: catalogue/a-light-in-the-attic_1000/index.html\n",
      "Text: , Href: catalogue/tipping-the-velvet_999/index.html\n",
      "Text: Tipping the Velvet, Href: catalogue/tipping-the-velvet_999/index.html\n",
      "Text: , Href: catalogue/soumission_998/index.html\n",
      "Text: Soumission, Href: catalogue/soumission_998/index.html\n",
      "Text: , Href: catalogue/sharp-objects_997/index.html\n",
      "Text: Sharp Objects, Href: catalogue/sharp-objects_997/index.html\n",
      "Text: , Href: catalogue/sapiens-a-brief-history-of-humankind_996/index.html\n",
      "Text: Sapiens: A Brief History ..., Href: catalogue/sapiens-a-brief-history-of-humankind_996/index.html\n",
      "Text: , Href: catalogue/the-requiem-red_995/index.html\n",
      "Text: The Requiem Red, Href: catalogue/the-requiem-red_995/index.html\n",
      "Text: , Href: catalogue/the-dirty-little-secrets-of-getting-your-dream-job_994/index.html\n",
      "Text: The Dirty Little Secrets ..., Href: catalogue/the-dirty-little-secrets-of-getting-your-dream-job_994/index.html\n",
      "Text: , Href: catalogue/the-coming-woman-a-novel-based-on-the-life-of-the-infamous-feminist-victoria-woodhull_993/index.html\n",
      "Text: The Coming Woman: A ..., Href: catalogue/the-coming-woman-a-novel-based-on-the-life-of-the-infamous-feminist-victoria-woodhull_993/index.html\n",
      "Text: , Href: catalogue/the-boys-in-the-boat-nine-americans-and-their-epic-quest-for-gold-at-the-1936-berlin-olympics_992/index.html\n",
      "Text: The Boys in the ..., Href: catalogue/the-boys-in-the-boat-nine-americans-and-their-epic-quest-for-gold-at-the-1936-berlin-olympics_992/index.html\n",
      "Text: , Href: catalogue/the-black-maria_991/index.html\n",
      "Text: The Black Maria, Href: catalogue/the-black-maria_991/index.html\n",
      "Text: , Href: catalogue/starving-hearts-triangular-trade-trilogy-1_990/index.html\n",
      "Text: Starving Hearts (Triangular Trade ..., Href: catalogue/starving-hearts-triangular-trade-trilogy-1_990/index.html\n",
      "Text: , Href: catalogue/shakespeares-sonnets_989/index.html\n",
      "Text: Shakespeare's Sonnets, Href: catalogue/shakespeares-sonnets_989/index.html\n",
      "Text: , Href: catalogue/set-me-free_988/index.html\n",
      "Text: Set Me Free, Href: catalogue/set-me-free_988/index.html\n",
      "Text: , Href: catalogue/scott-pilgrims-precious-little-life-scott-pilgrim-1_987/index.html\n",
      "Text: Scott Pilgrim's Precious Little ..., Href: catalogue/scott-pilgrims-precious-little-life-scott-pilgrim-1_987/index.html\n",
      "Text: , Href: catalogue/rip-it-up-and-start-again_986/index.html\n",
      "Text: Rip it Up and ..., Href: catalogue/rip-it-up-and-start-again_986/index.html\n",
      "Text: , Href: catalogue/our-band-could-be-your-life-scenes-from-the-american-indie-underground-1981-1991_985/index.html\n",
      "Text: Our Band Could Be ..., Href: catalogue/our-band-could-be-your-life-scenes-from-the-american-indie-underground-1981-1991_985/index.html\n",
      "Text: , Href: catalogue/olio_984/index.html\n",
      "Text: Olio, Href: catalogue/olio_984/index.html\n",
      "Text: , Href: catalogue/mesaerion-the-best-science-fiction-stories-1800-1849_983/index.html\n",
      "Text: Mesaerion: The Best Science ..., Href: catalogue/mesaerion-the-best-science-fiction-stories-1800-1849_983/index.html\n",
      "Text: , Href: catalogue/libertarianism-for-beginners_982/index.html\n",
      "Text: Libertarianism for Beginners, Href: catalogue/libertarianism-for-beginners_982/index.html\n",
      "Text: , Href: catalogue/its-only-the-himalayas_981/index.html\n",
      "Text: It's Only the Himalayas, Href: catalogue/its-only-the-himalayas_981/index.html\n",
      "Text: next, Href: catalogue/page-2.html\n"
     ]
    }
   ],
   "source": [
    "import requests\n",
    "from bs4 import BeautifulSoup\n",
    "\n",
    "url = \"http://books.toscrape.com/\" \n",
    "response = requests.get(url)\n",
    "soup = BeautifulSoup(response.content, 'html.parser')\n",
    "\n",
    "hyperlinks = soup.find_all('a')\n",
    "\n",
    "for link in hyperlinks:\n",
    "    text = link.text.strip()\n",
    "    href = link.get('href')\n",
    "    print(f\"Text: {text}, Href: {href}\")\n"
   ]
  },
  {
   "cell_type": "code",
   "execution_count": 16,
   "id": "ab76ed0e-9b73-44db-9356-e9c591c53781",
   "metadata": {},
   "outputs": [
    {
     "name": "stdout",
     "output_type": "stream",
     "text": [
      "['All products', 'A Light in the ...', 'Tipping the Velvet', 'Soumission', 'Sharp Objects']\n"
     ]
    }
   ],
   "source": [
    "import requests\n",
    "from bs4 import BeautifulSoup\n",
    "\n",
    "url = \"http://books.toscrape.com/\" \n",
    "response = requests.get(url)\n",
    "soup = BeautifulSoup(response.content, 'html.parser')\n",
    " # Find all headlines on the page\n",
    "headlines = soup.find_all(['h1', 'h2', 'h3'])\n",
    "# Extract and print the top 5 headlines\n",
    "top_headlines = []\n",
    "for headline in headlines[:5]:\n",
    "        top_headlines.append(headline.text.strip())\n",
    "\n",
    "print(top_headlines)"
   ]
  }
 ],
 "metadata": {
  "kernelspec": {
   "display_name": "Python 3 (ipykernel)",
   "language": "python",
   "name": "python3"
  },
  "language_info": {
   "codemirror_mode": {
    "name": "ipython",
    "version": 3
   },
   "file_extension": ".py",
   "mimetype": "text/x-python",
   "name": "python",
   "nbconvert_exporter": "python",
   "pygments_lexer": "ipython3",
   "version": "3.12.7"
  }
 },
 "nbformat": 4,
 "nbformat_minor": 5
}
